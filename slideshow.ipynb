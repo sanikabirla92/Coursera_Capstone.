{
    "cells": [
        {
            "metadata": {
                "collapsed": true,
                "slideshow": {
                    "slide_type": "slide"
                }
            },
            "cell_type": "markdown",
            "source": "# Coursera Capstone\n# IBM Applied Data Science Capstone\n\n\n\n<b> *Opening A New Shopping Mall In Kuala Lumpur, Malaysia*</b>\n\n**BY:- SANIKA BIRLA**"
        },
        {
            "metadata": {
                "slideshow": {
                    "slide_type": "slide"
                }
            },
            "cell_type": "markdown",
            "source": "# Business Problem\n\nThe objective of this capstone project is to analyse and select the best locations in the city of Kuala Lumpur, Malaysia to open a new shopping mall.\n\nLocation of a shopping mall is one of the most important decisions that will determine whether the mall will be successful or failure."
        },
        {
            "metadata": {
                "slideshow": {
                    "slide_type": "slide"
                }
            },
            "cell_type": "markdown",
            "source": "#  Data\n\n<b> DATA REQUIRED: </b>\n 1. List of neighbourhoods in Kuala Lumpur.\n \n 2. Latitute and longitude coordinates of the neighbourhoods. This is required in order to plot the map and also to get the venue data.\n \n 3. Venues Data, particularly data related to shopping.\n \n 4. After that, we will use Foursquare API to get the venue data for those neighbourhoods. Foursquare has one of the largest database of 105 million places and is used by over 125,000 developers. Foursquare API will provide many categories of the venue data, we are particularly interested in the Shopping Mall category in order to help us to solve the business problem put forward\n"
        },
        {
            "metadata": {
                "slideshow": {
                    "slide_type": "slide"
                }
            },
            "cell_type": "markdown",
            "source": "# METHDOLOGY\n\nWeb scraaping Wikipedia page for neighbourhoods list.\n\nGet latitude and longitude coordinates using GEOCODER.\n\nUse FOURSQUARE API"
        },
        {
            "metadata": {
                "slideshow": {
                    "slide_type": "slide"
                }
            },
            "cell_type": "markdown",
            "source": "# RESULTS\n\n<b> Categorized the neighbourhoods in 3 clusters:</b>\n\nThe results from the k-means clustering show that we can categorize the neighbourhoods into 3 clusters based on the frequency of occurrence for \u201cShopping Mall\u201d:\n\n\u2022 Cluster 0: Neighbourhoods with moderate number of shopping malls\n\n\u2022 Cluster 1: Neighbourhoods with low number to no existence of shopping malls\n\n\u2022 Cluster 2: Neighbourhoods with high concentration of shopping malls"
        },
        {
            "metadata": {
                "slideshow": {
                    "slide_type": "slide"
                }
            },
            "cell_type": "markdown",
            "source": "# DISCUSSION\n\nAs observations noted from the map in the Results section, most of the shopping malls are concentrated in the central area of Kuala Lumpur city, with the highest number in *cluster 2* and moderate number in *cluster 0*. On the other hand, *cluster 1* has very low number to no shopping mall in the neighbourhoods. \n\nThis represents a great opportunity and high potential areas to open new shopping malls as there is very little to no competition from existing malls"
        },
        {
            "metadata": {
                "slideshow": {
                    "slide_type": "slide"
                }
            },
            "cell_type": "markdown",
            "source": "# CONCLUSION\n\nIn this project, we have gone through the process of identifying the business problem, specifying the data required, extracting and preparing the data, performing machine learning by clustering the data into 3 clusters based on their similarities, and lastly providing recommendations to the relevant stakeholders i.e. property developers and investors regarding the best locations to open a new shopping mall. To answer the business question that was raised in the introduction section, the answer proposed by this project is: The neighbourhoods in cluster 1 are the most preferred locations to open a new shopping mall. The findings of this project will help the relevant stakeholders to capitalize on the opportunities on high potential locations while avoiding overcrowded areas in their decisions to open a new shopping mall."
        },
        {
            "metadata": {
                "slideshow": {
                    "slide_type": "slide"
                }
            },
            "cell_type": "markdown",
            "source": "# THANK-YOU "
        },
        {
            "metadata": {},
            "cell_type": "code",
            "source": "",
            "execution_count": null,
            "outputs": []
        }
    ],
    "metadata": {
        "kernelspec": {
            "name": "python3",
            "display_name": "Python 3.6",
            "language": "python"
        },
        "language_info": {
            "name": "python",
            "version": "3.6.9",
            "mimetype": "text/x-python",
            "codemirror_mode": {
                "name": "ipython",
                "version": 3
            },
            "pygments_lexer": "ipython3",
            "nbconvert_exporter": "python",
            "file_extension": ".py"
        },
        "celltoolbar": "Slideshow"
    },
    "nbformat": 4,
    "nbformat_minor": 1
}