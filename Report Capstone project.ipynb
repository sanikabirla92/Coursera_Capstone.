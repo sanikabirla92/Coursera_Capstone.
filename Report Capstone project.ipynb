{
    "cells": [
        {
            "metadata": {
                "collapsed": true,
                "slideshow": {
                    "slide_type": "slide"
                }
            },
            "cell_type": "markdown",
            "source": "<h1><center>Coursera Capstone Project</center></h1\n\n\n\n\n\n    \n    "
        },
        {
            "metadata": {
                "slideshow": {
                    "slide_type": "subslide"
                }
            },
            "cell_type": "markdown",
            "source": " <h1><center>IBM Applied Data Science Capstone Project </center></h1"
        },
        {
            "metadata": {},
            "cell_type": "markdown",
            "source": "## <center>TOPIC: Opening a new shopping mall in kuala Lumpur, Malaysia </center>\n\n"
        },
        {
            "metadata": {},
            "cell_type": "markdown",
            "source": "## <center>*By- Sanika Birla*</center>"
        },
        {
            "metadata": {},
            "cell_type": "markdown",
            "source": "# INTRODUCTION: \n\nFor many shoppers, visiting shopping malls is a great way to relax and enjoy themselves during weekends and holidays. They can do grocery shopping, dine at restaurants, shop at the various fashion outlets, watch movies and perform many more activities. Shopping malls are like a one-stop destination for all types of shoppers. For retailers, the central location and the large crowd at the shopping malls provides a great distribution channel to market their products and services. Property developers are also taking advantage of this trend to build more shopping malls to cater to the demand.As a result, there are many shopping malls in the city of Kuala Lumpur and many more are being built. Opening shopping malls allows property developers to earn consistent rental income. Of course, as with any business decision, opening a new shopping mall requires serious consideration and is a lot more complicated than it seems. Particularly, the location of the shopping mall is one of the most important decisions that will determine whether the mall will be a success or a failure."
        },
        {
            "metadata": {},
            "cell_type": "markdown",
            "source": "# Business Problem\n\nThe objective of this capstone project is to analyse and select the best locations in the city of Kuala Lumpur, Malaysia to open a new shopping mall. Using data science methodology and machine learning techniques like clustering, this project aims to provide solutions to answer the business question: In the city of Kuala Lumpur, Malaysia, if a property developer is looking to open a new shopping mall, where would you recommend that they open it?"
        },
        {
            "metadata": {},
            "cell_type": "markdown",
            "source": "# Data Required to solve the problem\n\n**To solve the problem, we will need the following data:**\n\n\u2022 List of neighbourhoods in Kuala Lumpur. This defines the scope of this project which is confined to the city of Kuala Lumpur, the capital city of the country of Malaysia in South East Asia.\n\n\u2022 Latitude and longitude coordinates of those neighbourhoods. This is required in order to plot the map and also to get the venue data.\n\n\u2022 Venue data, particularly data related to shopping malls. We will use this data to perform clustering on the neighbourhoods.\n\n**FOURSQUARE API:**\n\nWe will use **Foursquare API** to get the venue data for those neighbourhoods. Foursquare has one of the largest database of 105+ million places and is used by over 125,000 developers. Foursquare API will provide many categories of the venue data, we are particularly interested in the Shopping Mall category in order to help us to solve the business problem put forward. This is a project that will make use of many data science skills, from web scraping (Wikipedia), working with API (Foursquare), data cleaning, data wrangling, to machine learning (K-means clustering) and map visualization (Folium)."
        },
        {
            "metadata": {},
            "cell_type": "code",
            "source": "",
            "execution_count": null,
            "outputs": []
        }
    ],
    "metadata": {
        "kernelspec": {
            "name": "python3",
            "display_name": "Python 3.6",
            "language": "python"
        },
        "language_info": {
            "name": "python",
            "version": "3.6.9",
            "mimetype": "text/x-python",
            "codemirror_mode": {
                "name": "ipython",
                "version": 3
            },
            "pygments_lexer": "ipython3",
            "nbconvert_exporter": "python",
            "file_extension": ".py"
        }
    },
    "nbformat": 4,
    "nbformat_minor": 1
}